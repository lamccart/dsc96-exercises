{
 "cells": [
  {
   "cell_type": "markdown",
   "metadata": {},
   "source": [
    "# Intro to Pandas\n",
    "\n",
    "Pandas is a Python library that is similar to the `datascience` module you have been using in DSC10.  Frankly, I find the official dicumentation ([here](https://pandas.pydata.org/)) kind of confusing, and mostly use Stack Overflow to figure out how to do things.  Here we will go over some of the basic ways to manipulate tabluar data with Pandas.\n",
    "\n",
    "[This video](https://vimeo.com/59324550) is a good introduction also, and is paired with a Jupyter notebook ([here](http://nbviewer.jupyter.org/urls/gist.github.com/wesm/4757075/raw/a72d3450ad4924d0e74fb57c9f62d1d895ea4574/PandasTour.ipynb)) that covers things slightly differently.\n",
    "\n",
    "This notebook is adapted from Dennis Tenin's [Lede Program](https://github.com/ledeprogram/courses/blob/master/README.md)\n",
    "\n",
    "(FYI - more good basketball data is at [538](http://eightthirtyfour.com/data))"
   ]
  },
  {
   "cell_type": "code",
   "execution_count": 1,
   "metadata": {},
   "outputs": [],
   "source": [
    "import pandas as pd"
   ]
  },
  {
   "cell_type": "code",
   "execution_count": 2,
   "metadata": {},
   "outputs": [],
   "source": [
    "nba_df = pd.read_csv(\"NBA 2013.csv\")"
   ]
  },
  {
   "cell_type": "code",
   "execution_count": 12,
   "metadata": {},
   "outputs": [
    {
     "data": {
      "text/html": [
       "<div>\n",
       "<style scoped>\n",
       "    .dataframe tbody tr th:only-of-type {\n",
       "        vertical-align: middle;\n",
       "    }\n",
       "\n",
       "    .dataframe tbody tr th {\n",
       "        vertical-align: top;\n",
       "    }\n",
       "\n",
       "    .dataframe thead th {\n",
       "        text-align: right;\n",
       "    }\n",
       "</style>\n",
       "<table border=\"1\" class=\"dataframe\">\n",
       "  <thead>\n",
       "    <tr style=\"text-align: right;\">\n",
       "      <th></th>\n",
       "      <th>Unnamed: 0</th>\n",
       "      <th>Name</th>\n",
       "      <th>Age</th>\n",
       "      <th>Team</th>\n",
       "      <th>POS</th>\n",
       "      <th>#</th>\n",
       "      <th>2013 $</th>\n",
       "      <th>Ht (In.)</th>\n",
       "      <th>WT</th>\n",
       "      <th>EXP</th>\n",
       "      <th>1st Year</th>\n",
       "      <th>DOB</th>\n",
       "      <th>School</th>\n",
       "      <th>City</th>\n",
       "      <th>State (Province, Territory, Etc..)</th>\n",
       "      <th>Country</th>\n",
       "      <th>Race</th>\n",
       "      <th>HS Only</th>\n",
       "      <th>BMI</th>\n",
       "      <th>BMI Category</th>\n",
       "    </tr>\n",
       "  </thead>\n",
       "  <tbody>\n",
       "    <tr>\n",
       "      <th>0</th>\n",
       "      <td>0</td>\n",
       "      <td>Gee, Alonzo</td>\n",
       "      <td>26</td>\n",
       "      <td>Cavaliers</td>\n",
       "      <td>F</td>\n",
       "      <td>33</td>\n",
       "      <td>$3,250,000</td>\n",
       "      <td>78</td>\n",
       "      <td>219</td>\n",
       "      <td>4</td>\n",
       "      <td>2009</td>\n",
       "      <td>5/29/1987</td>\n",
       "      <td>Alabama</td>\n",
       "      <td>Riviera Beach, FL</td>\n",
       "      <td>Florida</td>\n",
       "      <td>US</td>\n",
       "      <td>Black</td>\n",
       "      <td>No</td>\n",
       "      <td>25.917160</td>\n",
       "      <td>overweight</td>\n",
       "    </tr>\n",
       "    <tr>\n",
       "      <th>1</th>\n",
       "      <td>1</td>\n",
       "      <td>Wallace, Gerald</td>\n",
       "      <td>31</td>\n",
       "      <td>Celtics</td>\n",
       "      <td>F</td>\n",
       "      <td>45</td>\n",
       "      <td>$10,105,855</td>\n",
       "      <td>79</td>\n",
       "      <td>220</td>\n",
       "      <td>12</td>\n",
       "      <td>2001</td>\n",
       "      <td>7/23/1982</td>\n",
       "      <td>Alabama</td>\n",
       "      <td>Sylacauga, AL</td>\n",
       "      <td>Alabama</td>\n",
       "      <td>US</td>\n",
       "      <td>Black</td>\n",
       "      <td>No</td>\n",
       "      <td>25.380548</td>\n",
       "      <td>overweight</td>\n",
       "    </tr>\n",
       "    <tr>\n",
       "      <th>2</th>\n",
       "      <td>2</td>\n",
       "      <td>Williams, Mo</td>\n",
       "      <td>30</td>\n",
       "      <td>Trail Blazers</td>\n",
       "      <td>G</td>\n",
       "      <td>25</td>\n",
       "      <td>$2,652,000</td>\n",
       "      <td>73</td>\n",
       "      <td>195</td>\n",
       "      <td>10</td>\n",
       "      <td>2003</td>\n",
       "      <td>12/19/1982</td>\n",
       "      <td>Alabama</td>\n",
       "      <td>Jackson, MS</td>\n",
       "      <td>Mississippi</td>\n",
       "      <td>US</td>\n",
       "      <td>Black</td>\n",
       "      <td>No</td>\n",
       "      <td>26.346406</td>\n",
       "      <td>overweight</td>\n",
       "    </tr>\n",
       "    <tr>\n",
       "      <th>3</th>\n",
       "      <td>3</td>\n",
       "      <td>Gladness, Mickell</td>\n",
       "      <td>27</td>\n",
       "      <td>Magic</td>\n",
       "      <td>C</td>\n",
       "      <td>40</td>\n",
       "      <td>$762,195</td>\n",
       "      <td>83</td>\n",
       "      <td>220</td>\n",
       "      <td>2</td>\n",
       "      <td>2011</td>\n",
       "      <td>7/26/1986</td>\n",
       "      <td>Alabama A&amp;M</td>\n",
       "      <td>Birmingham, AL</td>\n",
       "      <td>Alabama</td>\n",
       "      <td>US</td>\n",
       "      <td>Black</td>\n",
       "      <td>No</td>\n",
       "      <td>22.993178</td>\n",
       "      <td>normal</td>\n",
       "    </tr>\n",
       "    <tr>\n",
       "      <th>4</th>\n",
       "      <td>4</td>\n",
       "      <td>Jefferson, Richard</td>\n",
       "      <td>33</td>\n",
       "      <td>Jazz</td>\n",
       "      <td>F</td>\n",
       "      <td>44</td>\n",
       "      <td>$11,046,000</td>\n",
       "      <td>79</td>\n",
       "      <td>230</td>\n",
       "      <td>12</td>\n",
       "      <td>2001</td>\n",
       "      <td>6/21/1980</td>\n",
       "      <td>Arizona</td>\n",
       "      <td>Los Angeles, CA</td>\n",
       "      <td>California</td>\n",
       "      <td>US</td>\n",
       "      <td>Black</td>\n",
       "      <td>No</td>\n",
       "      <td>26.534209</td>\n",
       "      <td>overweight</td>\n",
       "    </tr>\n",
       "    <tr>\n",
       "      <th>5</th>\n",
       "      <td>5</td>\n",
       "      <td>Hill, Solomon</td>\n",
       "      <td>22</td>\n",
       "      <td>Pacers</td>\n",
       "      <td>F</td>\n",
       "      <td>9</td>\n",
       "      <td>$1,246,680</td>\n",
       "      <td>79</td>\n",
       "      <td>220</td>\n",
       "      <td>0</td>\n",
       "      <td>2013</td>\n",
       "      <td>3/18/1991</td>\n",
       "      <td>Arizona</td>\n",
       "      <td>Los Angeles, CA</td>\n",
       "      <td>California</td>\n",
       "      <td>US</td>\n",
       "      <td>Black</td>\n",
       "      <td>No</td>\n",
       "      <td>25.380548</td>\n",
       "      <td>overweight</td>\n",
       "    </tr>\n",
       "    <tr>\n",
       "      <th>6</th>\n",
       "      <td>6</td>\n",
       "      <td>Budinger, Chase</td>\n",
       "      <td>25</td>\n",
       "      <td>Timberwolves</td>\n",
       "      <td>F</td>\n",
       "      <td>10</td>\n",
       "      <td>$5,000,000</td>\n",
       "      <td>79</td>\n",
       "      <td>218</td>\n",
       "      <td>4</td>\n",
       "      <td>2009</td>\n",
       "      <td>5/22/1988</td>\n",
       "      <td>Arizona</td>\n",
       "      <td>Encinitas, CA</td>\n",
       "      <td>California</td>\n",
       "      <td>US</td>\n",
       "      <td>White</td>\n",
       "      <td>No</td>\n",
       "      <td>25.149816</td>\n",
       "      <td>overweight</td>\n",
       "    </tr>\n",
       "    <tr>\n",
       "      <th>7</th>\n",
       "      <td>7</td>\n",
       "      <td>Williams, Derrick</td>\n",
       "      <td>22</td>\n",
       "      <td>Timberwolves</td>\n",
       "      <td>F</td>\n",
       "      <td>7</td>\n",
       "      <td>$5,016,960</td>\n",
       "      <td>80</td>\n",
       "      <td>241</td>\n",
       "      <td>2</td>\n",
       "      <td>2011</td>\n",
       "      <td>5/25/1991</td>\n",
       "      <td>Arizona</td>\n",
       "      <td>La Mirada, CA</td>\n",
       "      <td>California</td>\n",
       "      <td>US</td>\n",
       "      <td>Black</td>\n",
       "      <td>No</td>\n",
       "      <td>27.112500</td>\n",
       "      <td>overweight</td>\n",
       "    </tr>\n",
       "    <tr>\n",
       "      <th>8</th>\n",
       "      <td>8</td>\n",
       "      <td>Hill, Jordan</td>\n",
       "      <td>26</td>\n",
       "      <td>Lakers</td>\n",
       "      <td>F/C</td>\n",
       "      <td>27</td>\n",
       "      <td>$3,563,600</td>\n",
       "      <td>82</td>\n",
       "      <td>235</td>\n",
       "      <td>1</td>\n",
       "      <td>2012</td>\n",
       "      <td>7/27/1987</td>\n",
       "      <td>Arizona</td>\n",
       "      <td>Newberry, SC</td>\n",
       "      <td>South Carolina</td>\n",
       "      <td>US</td>\n",
       "      <td>Black</td>\n",
       "      <td>No</td>\n",
       "      <td>25.163593</td>\n",
       "      <td>overweight</td>\n",
       "    </tr>\n",
       "    <tr>\n",
       "      <th>9</th>\n",
       "      <td>9</td>\n",
       "      <td>Frye, Channing</td>\n",
       "      <td>30</td>\n",
       "      <td>Suns</td>\n",
       "      <td>F/C</td>\n",
       "      <td>8</td>\n",
       "      <td>$6,500,000</td>\n",
       "      <td>83</td>\n",
       "      <td>245</td>\n",
       "      <td>8</td>\n",
       "      <td>2005</td>\n",
       "      <td>5/17/1983</td>\n",
       "      <td>Arizona</td>\n",
       "      <td>White Plains, NY</td>\n",
       "      <td>New York</td>\n",
       "      <td>US</td>\n",
       "      <td>Black</td>\n",
       "      <td>No</td>\n",
       "      <td>25.606039</td>\n",
       "      <td>overweight</td>\n",
       "    </tr>\n",
       "  </tbody>\n",
       "</table>\n",
       "</div>"
      ],
      "text/plain": [
       "   Unnamed: 0                Name  Age           Team  POS   #       2013 $  \\\n",
       "0           0         Gee, Alonzo   26      Cavaliers    F  33   $3,250,000   \n",
       "1           1     Wallace, Gerald   31        Celtics    F  45  $10,105,855   \n",
       "2           2        Williams, Mo   30  Trail Blazers    G  25   $2,652,000   \n",
       "3           3   Gladness, Mickell   27          Magic    C  40     $762,195   \n",
       "4           4  Jefferson, Richard   33           Jazz    F  44  $11,046,000   \n",
       "5           5       Hill, Solomon   22         Pacers    F   9   $1,246,680   \n",
       "6           6     Budinger, Chase   25   Timberwolves    F  10   $5,000,000   \n",
       "7           7   Williams, Derrick   22   Timberwolves    F   7   $5,016,960   \n",
       "8           8        Hill, Jordan   26         Lakers  F/C  27   $3,563,600   \n",
       "9           9      Frye, Channing   30           Suns  F/C   8   $6,500,000   \n",
       "\n",
       "   Ht (In.)   WT  EXP  1st Year         DOB       School               City  \\\n",
       "0        78  219    4      2009   5/29/1987      Alabama  Riviera Beach, FL   \n",
       "1        79  220   12      2001   7/23/1982      Alabama      Sylacauga, AL   \n",
       "2        73  195   10      2003  12/19/1982      Alabama        Jackson, MS   \n",
       "3        83  220    2      2011   7/26/1986  Alabama A&M     Birmingham, AL   \n",
       "4        79  230   12      2001   6/21/1980      Arizona    Los Angeles, CA   \n",
       "5        79  220    0      2013   3/18/1991      Arizona    Los Angeles, CA   \n",
       "6        79  218    4      2009   5/22/1988      Arizona      Encinitas, CA   \n",
       "7        80  241    2      2011   5/25/1991      Arizona      La Mirada, CA   \n",
       "8        82  235    1      2012   7/27/1987      Arizona       Newberry, SC   \n",
       "9        83  245    8      2005   5/17/1983      Arizona   White Plains, NY   \n",
       "\n",
       "  State (Province, Territory, Etc..) Country   Race HS Only        BMI  \\\n",
       "0                            Florida      US  Black      No  25.917160   \n",
       "1                            Alabama      US  Black      No  25.380548   \n",
       "2                        Mississippi      US  Black      No  26.346406   \n",
       "3                            Alabama      US  Black      No  22.993178   \n",
       "4                         California      US  Black      No  26.534209   \n",
       "5                         California      US  Black      No  25.380548   \n",
       "6                         California      US  White      No  25.149816   \n",
       "7                         California      US  Black      No  27.112500   \n",
       "8                     South Carolina      US  Black      No  25.163593   \n",
       "9                           New York      US  Black      No  25.606039   \n",
       "\n",
       "  BMI Category  \n",
       "0   overweight  \n",
       "1   overweight  \n",
       "2   overweight  \n",
       "3       normal  \n",
       "4   overweight  \n",
       "5   overweight  \n",
       "6   overweight  \n",
       "7   overweight  \n",
       "8   overweight  \n",
       "9   overweight  "
      ]
     },
     "execution_count": 12,
     "metadata": {},
     "output_type": "execute_result"
    }
   ],
   "source": [
    "# Look at the first 10 rows\n",
    "nba_df.head(10)"
   ]
  },
  {
   "cell_type": "code",
   "execution_count": null,
   "metadata": {},
   "outputs": [],
   "source": [
    "# Find out how many players are in each position\n",
    "nba_df[\"POS\"].value_counts()"
   ]
  },
  {
   "cell_type": "code",
   "execution_count": null,
   "metadata": {},
   "outputs": [],
   "source": [
    "nba_df[\"POS\"] == \"F\""
   ]
  },
  {
   "cell_type": "code",
   "execution_count": null,
   "metadata": {},
   "outputs": [],
   "source": [
    "# Get all of the people who match a certain characteristic\n",
    "nba_df[nba_df[\"POS\"] == \"F\"].head(10)"
   ]
  },
  {
   "cell_type": "code",
   "execution_count": null,
   "metadata": {},
   "outputs": [],
   "source": [
    "# Get all of the people who match a certain characteristic\n",
    "nba_df[(nba_df[\"POS\"] == \"F\") & (nba_df[\"HS Only\"] == \"Yes\") ].head(10)"
   ]
  },
  {
   "cell_type": "code",
   "execution_count": null,
   "metadata": {},
   "outputs": [],
   "source": [
    "# Get all of the people who match one of any X characteristics\n",
    "nba_df[(nba_df[\"POS\"] == \"F\") | (nba_df[\"POS\"] == \"G\") ].head()"
   ]
  },
  {
   "cell_type": "code",
   "execution_count": null,
   "metadata": {},
   "outputs": [],
   "source": [
    "# Retrieve what's nan/null/etc\n",
    "nba_df[pd.isnull(nba_df[\"Race\"])].head()"
   ]
  },
  {
   "cell_type": "code",
   "execution_count": null,
   "metadata": {},
   "outputs": [],
   "source": [
    "# Retrieve what's NOT nan/null/etc\n",
    "nba_df[~pd.isnull(nba_df[\"Race\"])].head()"
   ]
  },
  {
   "cell_type": "code",
   "execution_count": null,
   "metadata": {},
   "outputs": [],
   "source": [
    "# or this\n",
    "nba_df[pd.notnull(nba_df[\"Race\"])].head()"
   ]
  },
  {
   "cell_type": "code",
   "execution_count": null,
   "metadata": {},
   "outputs": [],
   "source": [
    "# Get the mean age!\n",
    "nba_df[\"Age\"].mean()"
   ]
  },
  {
   "cell_type": "code",
   "execution_count": null,
   "metadata": {},
   "outputs": [],
   "source": [
    "# Get numerical data on a column\n",
    "# If you're dealing with labels or groups, use .value_counts()\n",
    "nba_df[\"Age\"].describe()"
   ]
  },
  {
   "cell_type": "code",
   "execution_count": null,
   "metadata": {},
   "outputs": [],
   "source": [
    "#access only the min?\n",
    "nba_df[\"Age\"].describe()['min']"
   ]
  },
  {
   "cell_type": "code",
   "execution_count": null,
   "metadata": {},
   "outputs": [],
   "source": [
    "# Get numerical data on grouped data\n",
    "nba_df.groupby(\"POS\")[\"Age\"].describe()"
   ]
  },
  {
   "cell_type": "code",
   "execution_count": null,
   "metadata": {},
   "outputs": [],
   "source": [
    "# Remove columns that you HATE with .drop\n",
    "# Need to save it as a new (or the same) variable\n",
    "nba_df = nba_df.drop([\"City\"], axis=1)\n",
    "nba_df.columns"
   ]
  },
  {
   "cell_type": "code",
   "execution_count": null,
   "metadata": {},
   "outputs": [],
   "source": [
    "# Calculate a new column from an existing column\n",
    "nba_df[\"Ht (Cm.)\"] = nba_df[\"Ht (In.)\"] * 2.54\n",
    "nba_df[:2]"
   ]
  },
  {
   "cell_type": "code",
   "execution_count": null,
   "metadata": {},
   "outputs": [],
   "source": [
    "# String manipulation on an entire column\n",
    "# Need to use .str to treat it as a string\n",
    "nba_df[\"Name\"].str.lower()"
   ]
  },
  {
   "cell_type": "code",
   "execution_count": null,
   "metadata": {},
   "outputs": [],
   "source": [
    "# has the dataframe changed based on the previous: nba_df[\"Name\"].str.lower() ?\n",
    "nba_df[\"Name\"]"
   ]
  },
  {
   "cell_type": "code",
   "execution_count": null,
   "metadata": {},
   "outputs": [],
   "source": [
    "# Do more intense manipulation with .apply + an external function\n",
    "# You will always forget to do axis=1, so remember it!\n",
    "# Just treat row like a dictionary, it goes one at a time\n",
    "def do_i_like_them(row):\n",
    "    if row[\"Age\"] >= 31:\n",
    "        return False\n",
    "    else:\n",
    "        return True\n",
    "\n",
    "nba_df[\"Liked\"] = nba_df.apply(do_i_like_them, axis=1)\n",
    "nba_df[\"Liked\"].value_counts()"
   ]
  },
  {
   "cell_type": "code",
   "execution_count": null,
   "metadata": {},
   "outputs": [],
   "source": [
    "# Get one column of a dataframe\n",
    "nba_df.iloc[0]"
   ]
  },
  {
   "cell_type": "code",
   "execution_count": null,
   "metadata": {},
   "outputs": [],
   "source": [
    "# For loops with dataframes\n",
    "# Can't do for row in nba_df, gotta use iterrows()\n",
    "for index, row in nba_df.iterrows():\n",
    "    print(str(index) + \": \" + row[\"Name\"])"
   ]
  },
  {
   "cell_type": "code",
   "execution_count": null,
   "metadata": {},
   "outputs": [],
   "source": [
    "# Grouping by as many as you want\n",
    "# Be sure to put the groupby stuff in square brackets\n",
    "nba_df.groupby([\"POS\", \"Race\"])[\"Age\"].mean()"
   ]
  },
  {
   "cell_type": "code",
   "execution_count": null,
   "metadata": {},
   "outputs": [],
   "source": [
    "# Histograms\n",
    "# Shows you the spread of one numerical value\n",
    "nba_df[\"Age\"].hist()\n"
   ]
  },
  {
   "cell_type": "code",
   "execution_count": null,
   "metadata": {},
   "outputs": [],
   "source": [
    "# Scatterplots show you the relationship of two numerical values\n",
    "nba_df.plot(\"Ht (In.)\",\"WT\", kind='scatter')"
   ]
  },
  {
   "cell_type": "code",
   "execution_count": 11,
   "metadata": {},
   "outputs": [
    {
     "data": {
      "text/plain": [
       "0.9545454545454545"
      ]
     },
     "execution_count": 11,
     "metadata": {},
     "output_type": "execute_result"
    }
   ],
   "source": [
    "# EXERCISE:\n",
    "# 0. what is the average weight? is it higher than the average American?\n",
    "# 1. create a new value (new column): \n",
    "#        the Boby Mass Index, or BMI (follow: http://extoxnet.orst.edu/faqs/dietcancer/web2/twohowto.html)\n",
    "# The BMI for a typical adult American male is 28.6, according to the CDC, \n",
    "# which rates a BMI of 18.5 to 24.9 as “normal” and a BMI of 25 to 29.9 as “overweight.”\n",
    "# 2. What is the average BMI for professional NBA players? how does it compare to average American male BMI?\n",
    "# 3. What is the ratio of \"normal\", \"overweight\", \"obese\" ?\n",
    "#\n",
    "# 4. Any outliers?\n",
    "def get_cat(bmi):\n",
    "    if bmi < 18.5:\n",
    "        return 'underweight'\n",
    "    elif 18.5 <= bmi <= 24.9:\n",
    "        return 'normal'\n",
    "    elif 25 <= bmi <= 29.9:\n",
    "        return 'overweight'\n",
    "    elif bmi >= 30:\n",
    "        return 'overweight'\n",
    "\n",
    "avg_weight = nba_df['WT'].mean()\n",
    "nba_df['BMI'] = (nba_df['WT'] * .45).divide((nba_df['Ht (In.)'] * .025)*(nba_df['Ht (In.)'] * .025))\n",
    "avg_bmi = nba_df['BMI'].mean()\n",
    "nba_df['BMI Category'] = nba_df['BMI'].apply(get_cat)\n",
    "nba_df['BMI Category'].value_counts().apply(lambda x: x / nba_df.shape[0])"
   ]
  },
  {
   "cell_type": "code",
   "execution_count": 42,
   "metadata": {},
   "outputs": [],
   "source": [
    "# STRECH EXERCISE:\n",
    "# 0. divide all players in groups (based on their role, or height, or another characteristic)\n",
    "# 1. calculate their mean salary, does it depend on that characteristic?\n",
    "# 2. can you represent what you found with a nice plot?\n",
    "\n",
    "nba_df['2013 $'] = nba_df['2013 $'].apply(lambda x: x.replace(',', \"\") if type(x) == str else x)"
   ]
  },
  {
   "cell_type": "code",
   "execution_count": null,
   "metadata": {},
   "outputs": [],
   "source": []
  }
 ],
 "metadata": {
  "kernelspec": {
   "display_name": "Python 3",
   "language": "python",
   "name": "python3"
  },
  "language_info": {
   "codemirror_mode": {
    "name": "ipython",
    "version": 3
   },
   "file_extension": ".py",
   "mimetype": "text/x-python",
   "name": "python",
   "nbconvert_exporter": "python",
   "pygments_lexer": "ipython3",
   "version": "3.7.1"
  }
 },
 "nbformat": 4,
 "nbformat_minor": 2
}
